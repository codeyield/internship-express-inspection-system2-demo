{
  "nbformat": 4,
  "nbformat_minor": 0,
  "metadata": {
    "colab": {
      "provenance": []
    },
    "kernelspec": {
      "name": "python3",
      "display_name": "Python 3"
    },
    "language_info": {
      "name": "python"
    }
  },
  "cells": [
    {
      "cell_type": "markdown",
      "source": [
        "# Скрипт подготовки обучающей, проверочной и тестовой выборок\n",
        "Разворачивает в среде Colab наборы обучающей, проверочной и тестовой выборок (данных и меток) с пользовательскими параметрами на основе всей имеющейся разметки."
      ],
      "metadata": {
        "id": "RCuW0FHZX7d7"
      }
    },
    {
      "cell_type": "code",
      "source": [
        "# Скачиваем датасеты и аннотации по ссылкам с Google-диска\n",
        "!gdown 1YSV*************************ZsxI\n",
        "!gdown 1CsT*************************_rbd\n",
        "!gdown 18gN*************************K_8Y"
      ],
      "metadata": {
        "id": "2oqhZNYir2_E"
      },
      "execution_count": null,
      "outputs": []
    },
    {
      "cell_type": "code",
      "source": [
        "# Распаковываем все скачанные архивы, удаляем служебные файлы и папки\n",
        "TEMP_PATH = \"/content/temp\"\n",
        "!rm -fr {TEMP_PATH}\n",
        "!mkdir -p {TEMP_PATH}\n",
        "!unzip -qo All_annotations.zip -d {TEMP_PATH}/labels\n",
        "!unzip -qo Correct_image.zip -d {TEMP_PATH}/data\n",
        "!unzip -qo correct_airport.zip -d {TEMP_PATH}/data\n",
        "!rm -fr {TEMP_PATH}/data/__MACOSX\n",
        "!find $TEMP_PATH -type f -name '.*' -exec rm -f {} +"
      ],
      "metadata": {
        "id": "oTmFf71msNAs"
      },
      "execution_count": null,
      "outputs": []
    },
    {
      "cell_type": "code",
      "source": [
        "# Сливаем все метки в одну папку\n",
        "!mkdir -p /content/temp/labels/all\n",
        "!cp /content/temp/labels/base_dataset/* /content/temp/labels/all\n",
        "!cp /content/temp/labels/airport_dataset/* /content/temp/labels/all\n",
        "!echo \"Всего меток: $(find /content/temp/labels/all -maxdepth 1 -type f | wc -l)\""
      ],
      "metadata": {
        "id": "973qXsCg7xwT"
      },
      "execution_count": null,
      "outputs": []
    },
    {
      "cell_type": "code",
      "source": [
        "# Сливаем все изображения в одну папку\n",
        "!mkdir -p /content/temp/data/all\n",
        "!find /content/temp/data/Correct_image -type f -exec cp {} /content/temp/data/all \\;\n",
        "!find /content/temp/data/correct_airport -type f -exec cp {} /content/temp/data/all \\;\n",
        "!echo \"Всего изображений: $(find /content/temp/data/all -maxdepth 1 -type f | wc -l)\""
      ],
      "metadata": {
        "id": "-QRQlJg1-zmB"
      },
      "execution_count": null,
      "outputs": []
    },
    {
      "cell_type": "code",
      "source": [
        "# Создаем структуру папок и меток датасета\n",
        "# Если вы хотите пересоздать датасет и/или изменить соотношение выборок - запустите сначала эту ячейку!\n",
        "DATASET_PATH = \"/content/dataset\"\n",
        "!rm -fr {DATASET_PATH}\n",
        "!mkdir -p {DATASET_PATH}/data/train {DATASET_PATH}/data/test {DATASET_PATH}/data/val\n",
        "!mkdir -p {DATASET_PATH}/labels/train {DATASET_PATH}/labels/test {DATASET_PATH}/labels/val"
      ],
      "metadata": {
        "id": "hLkAHGh9DXSx"
      },
      "execution_count": null,
      "outputs": []
    },
    {
      "cell_type": "code",
      "source": [
        "# Скрипт подготавливает обучающую, проверочную и тестовую выборки для всех существующих меток/аннотаций\n",
        "import random\n",
        "import shutil\n",
        "import os\n",
        "\n",
        "# Пользовательские параметры, задайте нужные значения\n",
        "VAL_SIZE = 0.15             # Размер проверочной выборки, доля от размера датасета\n",
        "TEST_SIZE = 0.1             # Размер тестовой выборки, доля от размера датасета\n",
        "RANDOM_STATE = 42           # Значение для повторения случайной выборки\n",
        "\n",
        "SRC_DATA_PATH, SRC_LABELS_PATH = '/content/temp/data/all', '/content/temp/labels/all'\n",
        "OUT_DATA_PATH, OUT_LABELS_PATH = '/content/dataset/data', '/content/dataset/labels'\n",
        "\n",
        "# Получаем список всех меток (без расширения файла)\n",
        "all_labels = sorted([file[:-4] for file in os.listdir(SRC_LABELS_PATH)])\n",
        "\n",
        "# Размеры выборок в абсолютных числах\n",
        "val_size_qty = int(len(all_labels) * VAL_SIZE)\n",
        "test_size_qty = int(len(all_labels) * TEST_SIZE)\n",
        "\n",
        "# Устанавливаем seed для генерации повторяющейся случайной выборки\n",
        "random.seed(RANDOM_STATE)\n",
        "\n",
        "# Создаем случайную выборку валидационных данных и копируем пары данные/метки в выходные папки\n",
        "for _ in range(val_size_qty):\n",
        "  randlabel = all_labels.pop(random.randint(0, len(all_labels) - 1))\n",
        "  shutil.copy(f'{SRC_LABELS_PATH}/{randlabel}.txt', f'{OUT_LABELS_PATH}/val')\n",
        "  shutil.copy(f'{SRC_DATA_PATH}/{randlabel}.tif', f'{OUT_DATA_PATH}/val')\n",
        "\n",
        "# Создаем случайную выборку тестовых данных и копируем пары данные/метки в выходные папки\n",
        "for _ in range(test_size_qty):\n",
        "  randlabel = all_labels.pop(random.randint(0, len(all_labels) - 1))\n",
        "  shutil.copy(f'{SRC_LABELS_PATH}/{randlabel}.txt', f'{OUT_LABELS_PATH}/test')\n",
        "  shutil.copy(f'{SRC_DATA_PATH}/{randlabel}.tif', f'{OUT_DATA_PATH}/test')\n",
        "\n",
        "# В списке осталась обучающая выборка, копируем пары данные/метки в выходные папки\n",
        "for label in all_labels:\n",
        "  shutil.copy(f'{SRC_LABELS_PATH}/{label}.txt', f'{OUT_LABELS_PATH}/train')\n",
        "  shutil.copy(f'{SRC_DATA_PATH}/{label}.tif', f'{OUT_DATA_PATH}/train')\n",
        "\n",
        "\n",
        "# Вывод проверочных значений\n",
        "print(f'Размеры обучающей/проверочной/тестовой выборок: {len(all_labels)} / {val_size_qty} / {test_size_qty}')\n",
        "print('Общий размер датасета:', len(all_labels) + val_size_qty + test_size_qty, '\\n')\n",
        "\n",
        "# Чтение файлов в папках и сверка соответствия изображений и меток\n",
        "for folder, name in {'train':'обучающей', 'val':'проверочной', 'test':'тестовой'}.items():\n",
        "  data = sorted([file[:-4] for file in os.listdir(f'{OUT_DATA_PATH}/{folder}')])\n",
        "  labels = sorted([file[:-4] for file in os.listdir(f'{OUT_LABELS_PATH}/{folder}')])\n",
        "  print(f'Данные и метки {name} выборки', 'совпали!' if data == labels else 'РАЗЛИЧАЮТСЯ, ОШИБКА!')"
      ],
      "metadata": {
        "id": "EBhD82MyFe2E"
      },
      "execution_count": null,
      "outputs": []
    }
  ]
}