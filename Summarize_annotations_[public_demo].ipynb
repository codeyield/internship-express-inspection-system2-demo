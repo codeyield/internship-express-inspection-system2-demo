{
  "nbformat": 4,
  "nbformat_minor": 0,
  "metadata": {
    "colab": {
      "provenance": []
    },
    "kernelspec": {
      "name": "python3",
      "display_name": "Python 3"
    },
    "language_info": {
      "name": "python"
    }
  },
  "cells": [
    {
      "cell_type": "markdown",
      "source": [
        "# Скрипт сбора готовой разметки со всех студенческих папок\n",
        "\n",
        "## Назначение\n",
        "\n",
        "**Упрощает повторяющуюся рутинную работу по ручному сбору, скачиванию и распаковке и объединению содержимого архивов разметки, сделанной всеми студентами.**\n",
        "\n",
        "Собирает все сделанные разметки в один архив All_annotations.zip\n",
        "\n",
        "## Использование\n",
        "\n",
        "Перед запуском на своем Google-диске в \"Доступных мне\" найдите папку \"Dataset\" и перетащите ее в корень своего Google-диска, т.е. в папку \"Мой диск\". Затем смонтируйте диск скриптом ниже:"
      ],
      "metadata": {
        "id": "6EUeq4dzAJdV"
      }
    },
    {
      "cell_type": "code",
      "execution_count": null,
      "metadata": {
        "id": "M6fq4n51Terp"
      },
      "outputs": [],
      "source": [
        "from google.colab import drive\n",
        "drive.mount('/content/drive')"
      ]
    },
    {
      "cell_type": "markdown",
      "source": [
        "## Проверка перед запуском\n",
        "\n",
        "После монтирования откройте файловую панель Collab слева и убедитесь, что вы видите путь \"/drive/MyDrive/Dataset\" со всеми подпапками и файлами внутри.\n",
        "\n",
        "Теперь можно запускать основной скрипт.\n",
        "\n",
        "Итоговый файл-архив All_annotations.zip сохранится в папку \"/Dataset\" и будет доступен всем студентам."
      ],
      "metadata": {
        "id": "3SWCupIaCrHj"
      }
    },
    {
      "cell_type": "code",
      "source": [
        "import os\n",
        "import zipfile\n",
        "\n",
        "LABEL_FOLDERS = ['Разметка', 'разметка']\n",
        "BASE_DATASET_PATH = '/content/drive/MyDrive/Path_to_Dataset_Part1'\n",
        "AIRPORT_DATASET_PATH = '/content/drive/MyDrive/MyDrive/Path_to_Dataset_Part2'\n",
        "\n",
        "ALL_ANNOTATIONS_ZIP = '/content/drive/MyDrive/Dataset/All_annotations.zip'\n",
        "\n",
        "passed_annotations = []     # Список успешно добавленных архивов\n",
        "total_labels = 0            # Всего собрано меток\n",
        "\n",
        "# Создаем или перезаписываем итоговый архив\n",
        "with zipfile.ZipFile(ALL_ANNOTATIONS_ZIP, \"w\") as new_zip:\n",
        "\n",
        "  # Обходим базовый датасет\n",
        "  user_folders = os.listdir(BASE_DATASET_PATH)\n",
        "  sorted_user_folders = sorted(user_folders, key=lambda x: x.lower())  # Сортировка папок без учета регистра\n",
        "\n",
        "  # Обходим все папки студентов в датасете\n",
        "  for user_folder in sorted_user_folders:\n",
        "\n",
        "    # Проверяем наличие подпапки с разметкой в разных варинтах написания\n",
        "    for label_folder in LABEL_FOLDERS:\n",
        "      label_path = f'{BASE_DATASET_PATH}/{user_folder}/{label_folder}'\n",
        "\n",
        "      # В папке студента нашли подпапку 'Разметка' (или похожую)\n",
        "      if os.path.exists(label_path):\n",
        "\n",
        "        # Получаем все zip-архивы, которые лежат в подпапке 'Разметка'\n",
        "        for root, dirs, files in os.walk(label_path):\n",
        "          for filename in files:\n",
        "            if filename.endswith(\".zip\"):\n",
        "\n",
        "              archive_path = os.path.join(root, filename)\n",
        "              with zipfile.ZipFile(archive_path, \"r\") as source_archive:\n",
        "\n",
        "                # Получаем список txt-файлов в zip-архиве из подпапки /obj_train_data\n",
        "                obj_train_data_files = [\n",
        "                  file for file in source_archive.namelist()\n",
        "                  if file.startswith(\"obj_train_data/\") and file.endswith(\".txt\")\n",
        "                ]\n",
        "\n",
        "                # Добавляем файлы из /obj_train_data в итоговый архив\n",
        "                for obj_file in obj_train_data_files:\n",
        "                  file_data = source_archive.read(obj_file)\n",
        "                  new_path = os.path.join('base_dataset/', os.path.basename(obj_file))\n",
        "                  new_zip.writestr(new_path, file_data)\n",
        "\n",
        "              found_labels = len(obj_train_data_files)\n",
        "              total_labels += found_labels\n",
        "\n",
        "              # Если нашли в архиве подпапку /obj_train_data и файлы меток в ней\n",
        "              if found_labels > 0:\n",
        "                # то добавляем имя обработанного архива с метками в соотв. список\n",
        "                passed_annotations.append(f'{user_folder}/{label_folder}/{filename} - {found_labels} меток')\n",
        "\n",
        "\n",
        "  # Обходим датасет из аэропорта\n",
        "  user_files = os.listdir(AIRPORT_DATASET_PATH)\n",
        "  sorted_user_files = sorted(user_files, key=lambda x: x.lower())  # Сортировка папок без учета регистра\n",
        "\n",
        "  # Обходим все папки студентов в датасете\n",
        "  for filename in sorted_user_files:\n",
        "    if filename.endswith(\".zip\"):\n",
        "      archive_path = f'{AIRPORT_DATASET_PATH}/{filename}'\n",
        "\n",
        "      with zipfile.ZipFile(archive_path, \"r\") as source_archive:\n",
        "\n",
        "        # Получаем список txt-файлов в zip-архиве из подпапки /obj_train_data\n",
        "        obj_train_data_files = [\n",
        "          file for file in source_archive.namelist()\n",
        "          if file.startswith(\"obj_train_data/\") and file.endswith(\".txt\")\n",
        "        ]\n",
        "\n",
        "        # Добавляем файлы из /obj_train_data в итоговый архив\n",
        "        for obj_file in obj_train_data_files:\n",
        "          file_data = source_archive.read(obj_file)\n",
        "          new_path = os.path.join('airport_dataset/', os.path.basename(obj_file))\n",
        "          new_zip.writestr(new_path, file_data)\n",
        "\n",
        "      found_labels = len(obj_train_data_files)\n",
        "      total_labels += found_labels\n",
        "\n",
        "      # Если нашли в архиве подпапку /obj_train_data и файлы меток в ней\n",
        "      if found_labels > 0:\n",
        "        # то добавляем имя обработанного архива с метками в соотв. список\n",
        "        passed_annotations.append(f'{filename} - {found_labels} меток')\n",
        "\n",
        "  # Добавляем в итоговый zip-архив текстовый файл со списком обработанных меток\n",
        "  content = '\\n'.join(passed_annotations)\n",
        "  new_zip.writestr('Список обработанных меток.txt', content.encode())\n",
        "\n",
        "print(content)\n",
        "print('\\nВсего собрано меток:', total_labels)"
      ],
      "metadata": {
        "id": "S0l6oAP9VXp9"
      },
      "execution_count": null,
      "outputs": []
    }
  ]
}