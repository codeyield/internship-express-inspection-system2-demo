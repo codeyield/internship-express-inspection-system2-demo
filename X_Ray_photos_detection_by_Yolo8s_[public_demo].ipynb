{
  "nbformat": 4,
  "nbformat_minor": 0,
  "metadata": {
    "colab": {
      "provenance": [],
      "gpuType": "T4"
    },
    "kernelspec": {
      "name": "python3",
      "display_name": "Python 3"
    },
    "language_info": {
      "name": "python"
    },
    "accelerator": "GPU"
  },
  "cells": [
    {
      "cell_type": "markdown",
      "source": [
        "# Установка библиотек"
      ],
      "metadata": {
        "id": "53Nyvva3SATn"
      }
    },
    {
      "cell_type": "code",
      "source": [
        "import os\n",
        "import time\n",
        "import random\n",
        "import shutil\n",
        "from pathlib import Path\n",
        "\n",
        "import numpy as np\n",
        "\n",
        "import matplotlib.pyplot as plt\n",
        "import matplotlib.image as mpimg\n",
        "%matplotlib inline\n",
        "\n",
        "from IPython import display as IPdisplay\n",
        "from PIL import Image\n",
        "import cv2\n",
        "\n",
        "#import pickle\n",
        "import zipfile\n",
        "import yaml"
      ],
      "metadata": {
        "id": "TWlTJKDfECF5"
      },
      "execution_count": null,
      "outputs": []
    },
    {
      "cell_type": "code",
      "source": [
        "!pip install ultralytics"
      ],
      "metadata": {
        "id": "uFS1ZI3FCPuR"
      },
      "execution_count": null,
      "outputs": []
    },
    {
      "cell_type": "code",
      "source": [
        "import ultralytics\n",
        "from ultralytics import YOLO, settings, SAM\n",
        "from ultralytics.models.sam import Predictor as SAMPredictor\n",
        "\n",
        "ultralytics.checks()"
      ],
      "metadata": {
        "id": "8zdnMdgqCQ3L"
      },
      "execution_count": null,
      "outputs": []
    },
    {
      "cell_type": "markdown",
      "source": [
        "# Подготовка датасета и выборок"
      ],
      "metadata": {
        "id": "RCuW0FHZX7d7"
      }
    },
    {
      "cell_type": "markdown",
      "source": [
        "## Скачивание данных и разметки"
      ],
      "metadata": {
        "id": "L32Bt5vQLXlJ"
      }
    },
    {
      "cell_type": "code",
      "source": [
        "# Скачиваем датасеты и аннотации по расшаренным ссылкам с Google-диска\n",
        "!gdown 1YSV*************************ZsxI\n",
        "!gdown 1CsT*************************_rbd\n",
        "!gdown 18gN*************************K_8Y"
      ],
      "metadata": {
        "id": "2oqhZNYir2_E"
      },
      "execution_count": null,
      "outputs": []
    },
    {
      "cell_type": "code",
      "source": [
        "# Распаковываем все скачанные архивы, удаляем служебные файлы и папки\n",
        "TEMP_PATH = \"/content/temp\"\n",
        "!rm -fr {TEMP_PATH}\n",
        "!mkdir -p {TEMP_PATH}\n",
        "!unzip -qo All_annotations.zip -d {TEMP_PATH}/labels\n",
        "!unzip -qo Correct_image.zip -d {TEMP_PATH}/images\n",
        "!unzip -qo correct_airport.zip -d {TEMP_PATH}/images\n",
        "!rm -fr {TEMP_PATH}/images/__MACOSX\n",
        "!find $TEMP_PATH -type f -name '.*' -exec rm -f {} +"
      ],
      "metadata": {
        "id": "oTmFf71msNAs"
      },
      "execution_count": null,
      "outputs": []
    },
    {
      "cell_type": "code",
      "source": [
        "# Сливаем все метки в одну папку\n",
        "!mkdir -p /content/temp/labels/all\n",
        "!cp /content/temp/labels/base_dataset/* /content/temp/labels/all\n",
        "!cp /content/temp/labels/airport_dataset/* /content/temp/labels/all\n",
        "!echo \"Всего меток: $(find /content/temp/labels/all -maxdepth 1 -type f | wc -l)\""
      ],
      "metadata": {
        "id": "973qXsCg7xwT"
      },
      "execution_count": null,
      "outputs": []
    },
    {
      "cell_type": "code",
      "source": [
        "# Сливаем все изображения в одну папку\n",
        "!mkdir -p /content/temp/images/all\n",
        "!find /content/temp/images/Correct_image -type f -exec cp {} /content/temp/images/all \\;\n",
        "!find /content/temp/images/correct_airport -type f -exec cp {} /content/temp/images/all \\;\n",
        "!echo \"Всего изображений: $(find /content/temp/images/all -maxdepth 1 -type f | wc -l)\""
      ],
      "metadata": {
        "id": "-QRQlJg1-zmB"
      },
      "execution_count": null,
      "outputs": []
    },
    {
      "cell_type": "markdown",
      "source": [
        "## Константы, формирование датасета"
      ],
      "metadata": {
        "id": "D9amhuP3LfCw"
      }
    },
    {
      "cell_type": "code",
      "source": [
        "# Пути для датасета и разметки\n",
        "BASE_PATH = '/content'                                      # /content\n",
        "DATASET_PATH = os.path.join(BASE_PATH, 'dataset')           # /content/dataset\n",
        "\n",
        "# Временные пути, данные \"в кучу\", используются только при подготовке датасета\n",
        "TEMP_PATH = os.path.join(BASE_PATH, 'temp')                 # /content/temp\n",
        "SRC_DATA_PATH = os.path.join(TEMP_PATH, 'images', 'all')    # /content/temp/images/all\n",
        "SRC_LABELS_PATH = os.path.join(TEMP_PATH, 'labels', 'all')  # /content/temp/labels/all\n",
        "\n",
        "# Основные префиксы путей к данным и разметке\n",
        "OUT_DATA_PATH = os.path.join(DATASET_PATH, 'images')        # /content/dataset/images\n",
        "OUT_LABELS_PATH = os.path.join(DATASET_PATH, 'labels')      # /content/dataset/labels\n",
        "\n",
        "# Пути к папкам изображений\n",
        "TRAIN_IMAGES_PATH = os.path.join(OUT_DATA_PATH, 'train')\n",
        "TEST_IMAGES_PATH = os.path.join(OUT_DATA_PATH, 'test')\n",
        "VAL_IMAGES_PATH = os.path.join(OUT_DATA_PATH, 'val')\n",
        "\n",
        "# Пути к папкам разметки\n",
        "TRAIN_LABELS_PATH = os.path.join(OUT_LABELS_PATH, 'train')\n",
        "TEST_LABELS_PATH = os.path.join(OUT_LABELS_PATH, 'test')\n",
        "VAL_LABELS_PATH = os.path.join(OUT_LABELS_PATH, 'val')\n",
        "\n",
        "# Некоторые гиперпараметры\n",
        "VAL_SIZE = 0.15            # Размер проверочной выборки, доля от размера датасета\n",
        "TEST_SIZE = 0.1            # Размер тестовой выборки, доля от размера датасета\n",
        "RANDOM_STATE = 5           # Значение для повторения случайной выборки\n",
        "\n",
        "# YOLO параметры и пути\n",
        "YOLO_PROJECT = 'xray_yolov8s'\n",
        "YOLO_DETECT = 'detect'\n",
        "YOLO_VAL = 'val'\n",
        "YOLO_TEST = 'test'\n",
        "YOLO_PREDICT = 'predict'\n",
        "\n",
        "# Пути для записи результатов\n",
        "YOLO_PATH_DETECT = os.path.join(BASE_PATH, YOLO_PROJECT, YOLO_DETECT)\n",
        "YOLO_PATH_VAL = os.path.join(BASE_PATH, YOLO_PROJECT, YOLO_VAL)\n",
        "YOLO_PATH_TEST = os.path.join(BASE_PATH, YOLO_PROJECT, YOLO_TEST)\n",
        "YOLO_PATH_PREDICT = os.path.join(BASE_PATH, YOLO_PROJECT, YOLO_PREDICT)\n",
        "\n",
        "YOLO_YAML_FILE = os.path.join(BASE_PATH, f'{YOLO_PROJECT}.yaml')    # Файл с данными для обучения\n",
        "YOLO_PATH_WEIGHT = os.path.join(YOLO_PATH_DETECT, 'weights')        # Путь к весам частично обученной модели\n",
        "\n",
        "# Путь для сохранения частично обученной модели на Google Disk\n",
        "GDRIVE_SAVE_PATH = '/content/drive/My Drive/УИИ Стажировка Рентген/YOLO8 Results'"
      ],
      "metadata": {
        "id": "U-5lJdiFF7ZK"
      },
      "execution_count": null,
      "outputs": []
    },
    {
      "cell_type": "code",
      "source": [
        "# Опционально: Удаление дублирующих меток на разметке, предотвращает YOLO Warning: Duplicate labels removed\n",
        "# !rm -fr /content/temp/labels/all_cleaned\n",
        "\n",
        "# Локальные константы: не используются нигде, кроме этой ячейки\n",
        "CLEANED_LABELS_PATH = os.path.join(TEMP_PATH, 'labels', 'all_cleaned')\n",
        "ORIG_LABELS_PATH = os.path.join(TEMP_PATH, 'labels', 'all_orig')\n",
        "\n",
        "updated_files = []\n",
        "\n",
        "if not os.path.exists(CLEANED_LABELS_PATH):\n",
        "    os.makedirs(CLEANED_LABELS_PATH)\n",
        "\n",
        "for filename in os.listdir(SRC_LABELS_PATH):\n",
        "    src_file_path = os.path.join(SRC_LABELS_PATH, filename)\n",
        "\n",
        "    if os.path.isfile(src_file_path):\n",
        "        unique_lines = set()\n",
        "        # new_lines = []\n",
        "\n",
        "        with open(src_file_path, 'r') as src_file:\n",
        "            lines = src_file.readlines()\n",
        "\n",
        "        # Удаляем дублирующиеся строки внутри файла разметки\n",
        "        new_lines = [unique_lines.add(line.strip()) or line for line in lines if line.strip() not in unique_lines]\n",
        "\n",
        "        with open(os.path.join(CLEANED_LABELS_PATH, filename), 'w') as dest_file:\n",
        "            dest_file.writelines(new_lines)\n",
        "\n",
        "        if len(lines) != len(new_lines):\n",
        "            updated_files.append(filename)\n",
        "\n",
        "\n",
        "if updated_files:\n",
        "    print('Исправленных файлов разметки (удалены дублирующие метки):', len(updated_files))\n",
        "    #print(updated_files)\n",
        "\n",
        "\n",
        "# Переименовываем (меняем местами) папки, теперь:\n",
        "# /content/temp/labels/all - новые файлы без дублей меток\n",
        "# /content/temp/labels/all_orig - исходные файлы разметки\n",
        "!mv {SRC_LABELS_PATH} {ORIG_LABELS_PATH}\n",
        "!mv {CLEANED_LABELS_PATH} {SRC_LABELS_PATH}"
      ],
      "metadata": {
        "id": "qOMTulb-IDk9"
      },
      "execution_count": null,
      "outputs": []
    },
    {
      "cell_type": "code",
      "source": [
        "#!zip -rq labels_all.zip /content/temp/labels/all\n",
        "#!zip -rq labels_all_cleaned.zip /content/temp/labels/all_cleaned"
      ],
      "metadata": {
        "id": "LF2EzZ6NBukJ"
      },
      "execution_count": null,
      "outputs": []
    },
    {
      "cell_type": "code",
      "source": [
        "# Создаем структуру папок и меток датасета\n",
        "!rm -fr {DATASET_PATH}\n",
        "!mkdir -p {TRAIN_IMAGES_PATH} {TEST_IMAGES_PATH} {VAL_IMAGES_PATH}\n",
        "!mkdir -p {TRAIN_LABELS_PATH} {TEST_LABELS_PATH} {VAL_LABELS_PATH}"
      ],
      "metadata": {
        "id": "hLkAHGh9DXSx"
      },
      "execution_count": null,
      "outputs": []
    },
    {
      "cell_type": "code",
      "source": [
        "# Подготовка обучающей, проверочной и тестовой выборок для всех существующих меток/аннотаций\n",
        "\n",
        "# Получаем список всех меток (без расширения файла)\n",
        "all_labels = sorted([file[:-4] for file in os.listdir(SRC_LABELS_PATH)])\n",
        "\n",
        "# Размеры выборок в абсолютных числах\n",
        "val_size_qty = int(len(all_labels) * VAL_SIZE)\n",
        "test_size_qty = int(len(all_labels) * TEST_SIZE)\n",
        "\n",
        "# Устанавливаем seed для генерации повторяющейся случайной выборки\n",
        "random.seed(RANDOM_STATE)\n",
        "\n",
        "# Создаем случайную выборку валидационных данных и копируем пары данные/метки в выходные папки\n",
        "for _ in range(val_size_qty):\n",
        "    randlabel = all_labels.pop(random.randint(0, len(all_labels) - 1))\n",
        "    shutil.copy(f'{SRC_LABELS_PATH}/{randlabel}.txt', f'{OUT_LABELS_PATH}/val')\n",
        "    shutil.copy(f'{SRC_DATA_PATH}/{randlabel}.tif', f'{OUT_DATA_PATH}/val')\n",
        "\n",
        "# Создаем случайную выборку тестовых данных и копируем пары данные/метки в выходные папки\n",
        "for _ in range(test_size_qty):\n",
        "    randlabel = all_labels.pop(random.randint(0, len(all_labels) - 1))\n",
        "    shutil.copy(f'{SRC_LABELS_PATH}/{randlabel}.txt', f'{OUT_LABELS_PATH}/test')\n",
        "    shutil.copy(f'{SRC_DATA_PATH}/{randlabel}.tif', f'{OUT_DATA_PATH}/test')\n",
        "\n",
        "# В списке осталась обучающая выборка, копируем пары данные/метки в выходные папки\n",
        "for label in all_labels:\n",
        "    shutil.copy(f'{SRC_LABELS_PATH}/{label}.txt', f'{OUT_LABELS_PATH}/train')\n",
        "    shutil.copy(f'{SRC_DATA_PATH}/{label}.tif', f'{OUT_DATA_PATH}/train')\n",
        "\n",
        "\n",
        "# Вывод проверочных значений\n",
        "print(f'Размеры обучающей/проверочной/тестовой выборок: {len(all_labels)} / {val_size_qty} / {test_size_qty}')\n",
        "print('Общий размер датасета:', len(all_labels) + val_size_qty + test_size_qty, '\\n')\n",
        "\n",
        "# Чтение файлов в папках и сверка соответствия изображений и меток\n",
        "for folder, name in {'train':'обучающей', 'val':'проверочной', 'test':'тестовой'}.items():\n",
        "    data = sorted([file[:-4] for file in os.listdir(f'{OUT_DATA_PATH}/{folder}')])\n",
        "    labels = sorted([file[:-4] for file in os.listdir(f'{OUT_LABELS_PATH}/{folder}')])\n",
        "    print(f'Данные и метки {name} выборки', 'совпали!' if data == labels else 'РАЗЛИЧАЮТСЯ, ОШИБКА!')"
      ],
      "metadata": {
        "id": "EBhD82MyFe2E"
      },
      "execution_count": null,
      "outputs": []
    },
    {
      "cell_type": "markdown",
      "source": [
        "# Визуальная проверка датасета и разметки"
      ],
      "metadata": {
        "id": "53hapLJkzUG8"
      }
    },
    {
      "cell_type": "markdown",
      "source": [
        "## Функции отображения и наложения разметки"
      ],
      "metadata": {
        "id": "egUN4AGNtcxd"
      }
    },
    {
      "cell_type": "code",
      "source": [
        "# Читает файл разметки и возвращает список словарей вида:\n",
        "# labels = [{'cls':1, 'x':0.632161, 'y':0.609871, 'w':0.111198, 'h':0.030485}, ...]\n",
        "def get_labels(label_file):\n",
        "    labels = []\n",
        "\n",
        "    with open(label_file, 'r') as file:\n",
        "        for line in file:\n",
        "            values = [int(line.split()[0])] + [float(val) for val in line.split()[1:]]\n",
        "            labels.append(dict(zip(['cls', 'x', 'y', 'w', 'h'], values)))\n",
        "\n",
        "    return labels"
      ],
      "metadata": {
        "id": "m_akvn1fzUf7"
      },
      "execution_count": null,
      "outputs": []
    },
    {
      "cell_type": "code",
      "source": [
        "# Накладывает рамки разметки на изображение\n",
        "def impose_labels(image, labels):\n",
        "    # Конвертируем изображение в цветное для видимости рамок разметки\n",
        "    labeled_image = cv2.cvtColor(image, cv2.COLOR_GRAY2RGB)\n",
        "\n",
        "    img_height, img_width = image.shape\n",
        "\n",
        "    for label in labels:\n",
        "        x, y, w, h = label['x'], label['y'], label['w'], label['h']\n",
        "\n",
        "        # Заменяем координаты центра рамки на левый верхний угол\n",
        "        x -= w/2\n",
        "        y -= h/2\n",
        "\n",
        "        # Денормализуем float в координаты пикселей\n",
        "        x, y = int(x * img_width), int(y * img_height)\n",
        "        w, h = int(w * img_width), int(h * img_height)\n",
        "\n",
        "        # Цвет рамки в зависимости от класса - красный, жёлтый\n",
        "        color = (255, 0, 0) if label['cls'] == 0 else (255, 255, 0)\n",
        "\n",
        "        # Рисуем прямоугольную рамку на изображении\n",
        "        cv2.rectangle(labeled_image, (x, y), (x + w, y + h), color, thickness=2)\n",
        "\n",
        "    return labeled_image"
      ],
      "metadata": {
        "id": "esIa-AwYz9rp"
      },
      "execution_count": null,
      "outputs": []
    },
    {
      "cell_type": "code",
      "source": [
        "# Выводит рядом пару изображений: оригинальное и с наложенной разметкой\n",
        "def view_pair_images(image_file, label_file, figsize=(10, 10)):\n",
        "    # Загрузка исходного изображения\n",
        "    original_image = mpimg.imread(image_file)\n",
        "\n",
        "    # Создание фигуры, заголовок\n",
        "    plt.figure(figsize=figsize)\n",
        "    title = os.path.basename(image_file)\n",
        "\n",
        "    # Исходное изображения слева\n",
        "    plt.subplot(1, 2, 1)\n",
        "    plt.imshow(original_image, cmap='gray')\n",
        "    plt.title(title)\n",
        "    plt.axis('off')\n",
        "\n",
        "    # Накладываем рамки разметки на изображение\n",
        "    labeled_image = impose_labels(original_image, get_labels(label_file))\n",
        "\n",
        "    # Изображение с разметкой справа\n",
        "    plt.subplot(1, 2, 2)\n",
        "    plt.imshow(labeled_image)\n",
        "    plt.title(f'{title} (labeled)')\n",
        "    plt.axis('off')\n",
        "\n",
        "    # Отображение обеих подграфиков\n",
        "    plt.tight_layout()\n",
        "    plt.show()"
      ],
      "metadata": {
        "id": "WE88T-EqJ1uT"
      },
      "execution_count": null,
      "outputs": []
    },
    {
      "cell_type": "markdown",
      "source": [
        "## Просмотр изображений датасета с разметкой"
      ],
      "metadata": {
        "id": "UshT6FeluxHE"
      }
    },
    {
      "cell_type": "code",
      "source": [
        "IMAGES_TO_VIEW = 4      # Сколько пар изображений вывести\n",
        "\n",
        "# Выбираем случайные имена изображений из тренировочной выборки\n",
        "all_names = sorted([file[:-4] for file in os.listdir(TRAIN_IMAGES_PATH)])\n",
        "names = random.sample(all_names, IMAGES_TO_VIEW)\n",
        "\n",
        "for name in names:\n",
        "    view_pair_images(os.path.join(TRAIN_IMAGES_PATH, f'{name}.tif'), os.path.join(TRAIN_LABELS_PATH, f'{name}.txt'))"
      ],
      "metadata": {
        "id": "s72CoqidARUr"
      },
      "execution_count": null,
      "outputs": []
    },
    {
      "cell_type": "markdown",
      "source": [
        "## Проверка размерностей изображений датасета"
      ],
      "metadata": {
        "id": "CEsyQ_K54UV9"
      }
    },
    {
      "cell_type": "code",
      "source": [
        "# Проверка размерностей изображений датасета\n",
        "widths, heights, colors = [], [], []\n",
        "\n",
        "for folder_path in [TRAIN_IMAGES_PATH, TEST_IMAGES_PATH, VAL_IMAGES_PATH]:\n",
        "    tif_files = [f for f in os.listdir(folder_path) if f.endswith('.tif') or f.endswith('.tiff')]\n",
        "\n",
        "    # Обходим каждый файл в текущей папке\n",
        "    for filename in tif_files:\n",
        "        img = Image.open(os.path.join(folder_path, filename))\n",
        "\n",
        "        # Получаем информацию о изображении и добавляем ее в списки\n",
        "        width, height = img.size\n",
        "        widths.append(width)\n",
        "        heights.append(height)\n",
        "        colors.append(img.mode)\n",
        "\n",
        "print(f'Разброс ширины изображений: {min(widths)}...{max(widths)}')\n",
        "print(f'Разброс высоты изображений: {min(heights)}...{max(heights)}')\n",
        "print(f'Все уникальные значения глубины цвета: {list(set(colors))} \\n(д.б. \"L\", т.е. градации серого)')"
      ],
      "metadata": {
        "id": "PR6Tv46bzVTw"
      },
      "execution_count": null,
      "outputs": []
    },
    {
      "cell_type": "markdown",
      "source": [
        "# Обучение модели"
      ],
      "metadata": {
        "id": "qQ9SXeOHVv7s"
      }
    },
    {
      "cell_type": "markdown",
      "source": [
        "## Подготовка к обучению и функции промежуточного сохранения"
      ],
      "metadata": {
        "id": "uRAAdE3cHIpK"
      }
    },
    {
      "cell_type": "code",
      "source": [
        "# Подключаем Google-диск для сохранения частично обученной модели\n",
        "from google.colab import drive\n",
        "drive.mount('/content/drive')"
      ],
      "metadata": {
        "id": "HoJ5aji7HI1m"
      },
      "execution_count": null,
      "outputs": []
    },
    {
      "cell_type": "code",
      "source": [
        "# Сохраняет частично обученную модель last.pt и архив с результатами обучения на гугл-диск (для запуска с параметром resume=True позднее)\n",
        "def save_models_and_results():\n",
        "    suffix = time.strftime('%Y-%m-%d_%H-%M')\n",
        "\n",
        "    # Копируем автоматически сохраненную Yolo модель с весами на свой гугл-диск\n",
        "    shutil.copy(os.path.join(YOLO_PATH_WEIGHT, 'best.pt'), os.path.join(GDRIVE_SAVE_PATH, f'best_{suffix}.pt'))\n",
        "    shutil.copy(os.path.join(YOLO_PATH_WEIGHT, 'last.pt'), os.path.join(GDRIVE_SAVE_PATH, f'last_{suffix}.pt'))\n",
        "\n",
        "    # Сохраняем результаты xray_yolov8s/detect/*.* (без подпапки /weight) в zip-архив на гугл-диск\n",
        "    with zipfile.ZipFile(os.path.join(GDRIVE_SAVE_PATH, f'results_{suffix}.zip'), 'w', zipfile.ZIP_DEFLATED) as zipf:\n",
        "        # Проходим по всем файлам в папке и добавляем их в архив\n",
        "        for root, _, files in os.walk(YOLO_PATH_DETECT):\n",
        "            for file in files:\n",
        "                file_path = os.path.join(root, file)\n",
        "                # Без подпапок! - в подпапке /weight \"тяжелые\" модели с весами, мы ее скопировали выше отдельно\n",
        "                if root == YOLO_PATH_DETECT:\n",
        "                    arcname = os.path.relpath(file_path, YOLO_PATH_DETECT)\n",
        "                    zipf.write(file_path, arcname=arcname)\n",
        "\n",
        "\n",
        "# Копирует самую новую частично обученную модель best.pt с гугл-диска в текущую среду и возвращает полный путь к файлу\n",
        "def get_best_model_file():\n",
        "    # Получает имя файла best_*.pt в папке с самыми новыми датой/временем\n",
        "    modelfile = max((f for f in os.listdir(GDRIVE_SAVE_PATH) if f.startswith('best_') and f.endswith('.pt')),\n",
        "                    key=lambda f: os.path.getctime(os.path.join(GDRIVE_SAVE_PATH, f)), default=None)\n",
        "\n",
        "    # Копируем файл частично обученной модели с гугл-диска в текущую среду\n",
        "    shutil.copy(os.path.join(GDRIVE_SAVE_PATH, modelfile), modelpath := os.path.join(BASE_PATH, modelfile))\n",
        "\n",
        "    return modelpath\n",
        "\n",
        "# Копирует самую новую частично обученную модель last.pt с гугл-диска в текущую среду и возвращает полный путь к файлу\n",
        "def get_last_model_file():\n",
        "    # Получает имя файла last_*.pt в папке с самыми новыми датой/временем\n",
        "    modelfile = max((f for f in os.listdir(GDRIVE_SAVE_PATH) if f.startswith('last_') and f.endswith('.pt')),\n",
        "                    key=lambda f: os.path.getctime(os.path.join(GDRIVE_SAVE_PATH, f)), default=None)\n",
        "\n",
        "    # Копируем файл частично обученной модели с гугл-диска в текущую среду\n",
        "    shutil.copy(os.path.join(GDRIVE_SAVE_PATH, modelfile), modelpath := os.path.join(BASE_PATH, modelfile))\n",
        "\n",
        "    return modelpath"
      ],
      "metadata": {
        "id": "x86igcXvKrcj"
      },
      "execution_count": null,
      "outputs": []
    },
    {
      "cell_type": "markdown",
      "source": [
        "## Гиперпараметры и данные для YOLO"
      ],
      "metadata": {
        "id": "nKN3bNxcyzNA"
      }
    },
    {
      "cell_type": "code",
      "source": [
        "# Гиперпараметры обучения\n",
        "IMGSZ = 640\n",
        "BATCH_SIZE = 30\n",
        "EPOCHS = 100"
      ],
      "metadata": {
        "id": "vJ2o1RTyoj8G"
      },
      "execution_count": null,
      "outputs": []
    },
    {
      "cell_type": "code",
      "source": [
        "# Данные для YOLO\n",
        "yaml_data = {\n",
        "    'path': DATASET_PATH,                                       # /content/dataset\n",
        "    'train': os.path.relpath(TRAIN_IMAGES_PATH, DATASET_PATH),  # images/train\n",
        "    'val': os.path.relpath(VAL_IMAGES_PATH, DATASET_PATH),      # images/val\n",
        "    'test': os.path.relpath(TEST_IMAGES_PATH, DATASET_PATH),    # images/test\n",
        "    'nc': 2,                                                    # Кол-во классов\n",
        "    'names': ['Опасно', 'Внимание']\n",
        "    }\n",
        "\n",
        "with open(YOLO_YAML_FILE, 'w+') as f:\n",
        "    yaml.dump(yaml_data, f, default_flow_style=None, sort_keys=False)"
      ],
      "metadata": {
        "id": "ZPAGn97xCQ7m"
      },
      "execution_count": null,
      "outputs": []
    },
    {
      "cell_type": "code",
      "source": [
        "# Удаление рассчетов YOLO с предыдущих тренировок (опционально, если нужно перезапустить обучение)\n",
        "# (строки с установкой локали раскомментировать, если команда rm выдает ошибку)\n",
        "# import locale\n",
        "# locale.getpreferredencoding = lambda: \"UTF-8\"\n",
        "#!rm -fr /content/xray_yolov8s"
      ],
      "metadata": {
        "id": "k9z1P9a42-aB"
      },
      "execution_count": null,
      "outputs": []
    },
    {
      "cell_type": "markdown",
      "source": [
        "## Этап 1 (первичный)\n",
        "*Этап был прерван вручную после 40 эпох для дообучения позднее*"
      ],
      "metadata": {
        "id": "Je25yxCIcqVa"
      }
    },
    {
      "cell_type": "code",
      "source": [
        "# Загружаем предобученную модель\n",
        "model = YOLO('yolov8s.pt')\n",
        "model.info()"
      ],
      "metadata": {
        "id": "JCSPZmjh-RGN",
        "colab": {
          "base_uri": "https://localhost:8080/"
        },
        "outputId": "75c39dd2-433a-4d94-a52f-40a9c0d86adb"
      },
      "execution_count": null,
      "outputs": [
        {
          "output_type": "stream",
          "name": "stderr",
          "text": [
            "YOLOv8s summary: 225 layers, 11166560 parameters, 0 gradients\n"
          ]
        },
        {
          "output_type": "execute_result",
          "data": {
            "text/plain": [
              "(225, 11166560, 0, 0.0)"
            ]
          },
          "metadata": {},
          "execution_count": 34
        }
      ]
    },
    {
      "cell_type": "code",
      "source": [
        "results = model.train(data=YOLO_YAML_FILE,\n",
        "                      batch=BATCH_SIZE, epochs=EPOCHS, imgsz=IMGSZ,\n",
        "                      project=YOLO_PROJECT, name=YOLO_DETECT)"
      ],
      "metadata": {
        "id": "XPLd3CFuELVN"
      },
      "execution_count": null,
      "outputs": []
    },
    {
      "cell_type": "code",
      "source": [
        "# Сохраняем частично обученную модель и результаты на Google-диск\n",
        "save_models_and_results()"
      ],
      "metadata": {
        "id": "bzpng8TI3-Ra"
      },
      "execution_count": null,
      "outputs": []
    },
    {
      "cell_type": "markdown",
      "source": [
        "## Этап 2 (дообучение с весами предыдущего этапа)"
      ],
      "metadata": {
        "id": "2Om9FLtWcwUT"
      }
    },
    {
      "cell_type": "code",
      "source": [
        "# Загружаем частично обученную модель с гугл-диска\n",
        "model = YOLO(get_last_model_file())\n",
        "model.info()"
      ],
      "metadata": {
        "id": "aIOr1S9SbyVC",
        "colab": {
          "base_uri": "https://localhost:8080/"
        },
        "outputId": "da747486-1135-4e8a-de61-606292a8d333"
      },
      "execution_count": null,
      "outputs": [
        {
          "output_type": "stream",
          "name": "stderr",
          "text": [
            "Model summary: 225 layers, 11136374 parameters, 0 gradients\n"
          ]
        },
        {
          "output_type": "execute_result",
          "data": {
            "text/plain": [
              "(225, 11136374, 0, 0.0)"
            ]
          },
          "metadata": {},
          "execution_count": 27
        }
      ]
    },
    {
      "cell_type": "code",
      "source": [
        "results = model.train(data=YOLO_YAML_FILE,\n",
        "                      batch=BATCH_SIZE, epochs=EPOCHS, imgsz=IMGSZ,\n",
        "                      project=YOLO_PROJECT, name=YOLO_DETECT,\n",
        "                      resume=True)                # Возобновляем обучение с прерванного места"
      ],
      "metadata": {
        "id": "lN1JlBAO9l_q"
      },
      "execution_count": null,
      "outputs": []
    },
    {
      "cell_type": "code",
      "source": [
        "# Сохраняем последнюю обученную модель и результаты на Google-диск\n",
        "save_models_and_results()"
      ],
      "metadata": {
        "id": "COO8b3IzuL8w"
      },
      "execution_count": null,
      "outputs": []
    },
    {
      "cell_type": "markdown",
      "source": [
        "# Проверка обученной модели"
      ],
      "metadata": {
        "id": "RdwBOMoNhmwx"
      }
    },
    {
      "cell_type": "markdown",
      "source": [
        "## На валидационном наборе"
      ],
      "metadata": {
        "id": "oApSh884kxCv"
      }
    },
    {
      "cell_type": "code",
      "source": [
        "# Загружаем частично обученную модель с гугл-диска\n",
        "trained_model = YOLO(model_file := get_best_model_file())\n",
        "print('Загружен файл модели:', model_file)\n",
        "\n",
        "results_val = trained_model.val(data=YOLO_YAML_FILE, project=YOLO_PROJECT, name=YOLO_VAL)"
      ],
      "metadata": {
        "id": "ebFfvRl4-o13"
      },
      "execution_count": null,
      "outputs": []
    },
    {
      "cell_type": "code",
      "source": [
        "# Выводим метрики\n",
        "# dir(results_val.box)\n",
        "print('Метрики на валидационном наборе:')\n",
        "print(f\"{'map50':<21} {results_val.box.map50}\")\n",
        "print(f\"{'map75':<21} {results_val.box.map75}\")\n",
        "print(f\"{'map':<21} {results_val.box.map}\")\n",
        "print(f\"{'map по классам':<21} {results_val.box.maps}\")\n",
        "print(*[f\"{key+':':<21} {val}\" for key, val in results_val.results_dict.items()], sep='\\n')"
      ],
      "metadata": {
        "id": "draDcTUgELXA"
      },
      "execution_count": null,
      "outputs": []
    },
    {
      "cell_type": "code",
      "source": [
        "# Выводим YOLO изображения с метриками\n",
        "for image_file in sorted([f for f in os.listdir(YOLO_PATH_VAL) if f.endswith(('.png', '.jpg'))]):\n",
        "    IPdisplay.display(IPdisplay.Image(filename=os.path.join(YOLO_PATH_VAL, image_file), width=900))"
      ],
      "metadata": {
        "id": "PoNQRYU6uGyG"
      },
      "execution_count": null,
      "outputs": []
    },
    {
      "cell_type": "markdown",
      "source": [
        "## На тестовом наборе"
      ],
      "metadata": {
        "id": "sEnIZTR9cygX"
      }
    },
    {
      "cell_type": "code",
      "source": [
        "# Загружаем частично обученную модель с гугл-диска\n",
        "trained_model = YOLO(model_file := get_best_model_file())\n",
        "print('Загружен файл модели:', model_file)\n",
        "\n",
        "results_test = trained_model.val(data=YOLO_YAML_FILE, project=YOLO_PROJECT, name=YOLO_TEST)"
      ],
      "metadata": {
        "id": "wsNRJHBnElsT"
      },
      "execution_count": null,
      "outputs": []
    },
    {
      "cell_type": "code",
      "source": [
        "# Выводим метрики\n",
        "print('Метрики на тестовом наборе:')\n",
        "print(f\"{'map50':<21} {results_test.box.map50}\")\n",
        "print(f\"{'map75':<21} {results_test.box.map75}\")\n",
        "print(f\"{'map':<21} {results_test.box.map}\")\n",
        "print(f\"{'map по классам':<21} {results_test.box.maps}\")\n",
        "print(*[f\"{key+':':<21} {val}\" for key, val in results_test.results_dict.items()], sep='\\n')"
      ],
      "metadata": {
        "id": "rNPavUDWElsb"
      },
      "execution_count": null,
      "outputs": []
    },
    {
      "cell_type": "code",
      "source": [
        "# Выводим YOLO изображения с метриками\n",
        "for image_file in sorted([f for f in os.listdir(YOLO_PATH_TEST) if f.endswith(('.png', '.jpg'))]):\n",
        "    IPdisplay.display(IPdisplay.Image(filename=os.path.join(YOLO_PATH_TEST, image_file), width=900))"
      ],
      "metadata": {
        "id": "kdoJAWvkElsb"
      },
      "execution_count": null,
      "outputs": []
    },
    {
      "cell_type": "markdown",
      "source": [
        "# Предсказание на тестовом наборе"
      ],
      "metadata": {
        "id": "BHagVR19DqKI"
      }
    },
    {
      "cell_type": "code",
      "source": [
        "# Загружаем частично обученную модель с гугл-диска\n",
        "trained_model = YOLO(model_file := get_best_model_file())\n",
        "print('Загружен файл модели:', model_file)\n",
        "\n",
        "results_predict = trained_model.predict(source=TEST_IMAGES_PATH,\n",
        "                                        project=YOLO_PROJECT,\n",
        "                                        name=YOLO_PREDICT,\n",
        "                                        save=True,                # Сохранение изображений с результатами\n",
        "                                        save_conf=True,           # Сохранение результатов с показателями достоверности\n",
        "                                        save_txt=True,            # Сохранить результаты .txt файл\n",
        "                                        conf=0.25,                # Порог достоверности объекта для обнаружения\n",
        "                                        iou=0.7                   # Пересечение над объединением\n",
        "                                        )"
      ],
      "metadata": {
        "id": "Cfjk9nq5PPKx"
      },
      "execution_count": null,
      "outputs": []
    },
    {
      "cell_type": "code",
      "source": [
        "# Выводим случайную выборку изображений с результатами предсказания\n",
        "\n",
        "ROW_SIZE = 3            # Количество изображений в каждом ряду\n",
        "IMAGES_TO_VIEW = 18     # Сколько изображений вывести (рекомендуется кратное ROW_SIZE)\n",
        "\n",
        "# Выбираем IMAGES_TO_VIEW случайных имен изображений из папки с результатами предсказания\n",
        "image_files = [f for f in os.listdir(YOLO_PATH_PREDICT) if f.endswith('.tif')]\n",
        "image_files = random.sample(image_files, IMAGES_TO_VIEW)\n",
        "\n",
        "# Делим список изображений на порции по ROW_SIZE элементов\n",
        "image_groups = [image_files[i:i + ROW_SIZE] for i in range(0, len(image_files), ROW_SIZE)]\n",
        "\n",
        "# Выведите изображения\n",
        "for image_group in image_groups:\n",
        "    plt.figure(figsize=(15, 12))  # Размер графика\n",
        "    for i, image_file in enumerate(image_group):\n",
        "        img = Image.open(os.path.join(YOLO_PATH_PREDICT, image_file))\n",
        "        plt.subplot(1, ROW_SIZE, i + 1)\n",
        "        plt.imshow(img)\n",
        "        plt.axis('off')         # Отключаем оси\n",
        "        plt.title(image_file)   # Заголовок с именем файла\n",
        "    plt.show()\n"
      ],
      "metadata": {
        "id": "-a1tKuZac_fq"
      },
      "execution_count": null,
      "outputs": []
    }
  ]
}